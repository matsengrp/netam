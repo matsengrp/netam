{
 "cells": [
  {
   "cell_type": "code",
   "execution_count": 1,
   "metadata": {},
   "outputs": [
    {
     "name": "stderr",
     "output_type": "stream",
     "text": [
      "/Users/matsen/mambaforge/envs/epam/lib/python3.9/site-packages/tqdm/auto.py:21: TqdmWarning: IProgress not found. Please update jupyter and ipywidgets. See https://ipywidgets.readthedocs.io/en/stable/user_install.html\n",
      "  from .autonotebook import tqdm as notebook_tqdm\n"
     ]
    }
   ],
   "source": [
    "import pandas as pd\n",
    "import torch\n",
    "import torch.nn as nn\n",
    "import torch.nn.functional as F\n",
    "\n",
    "import matplotlib.pyplot as plt\n",
    "plt.rcParams['figure.dpi'] = 150\n",
    "import seaborn as sns\n",
    "\n",
    "from netam import framework, models\n",
    "from epam.torch_common import pick_device, parameter_count_of_model"
   ]
  },
  {
   "cell_type": "code",
   "execution_count": 2,
   "metadata": {},
   "outputs": [
    {
     "name": "stdout",
     "output_type": "stream",
     "text": [
      "Using Metal Performance Shaders\n"
     ]
    }
   ],
   "source": [
    "from netam.framework import load_shmoof_dataframes\n",
    "\n",
    "shmoof_path = \"/Users/matsen/data/shmoof_edges_11-Jan-2023_NoNode0_iqtree_K80+R_masked.csv\"\n",
    "val_nicknames = ['59', '88', '97', 'small']\n",
    "\n",
    "max_length=410\n",
    "batch_size=1024\n",
    "device = pick_device()\n",
    "\n",
    "def data_of_nickname(nickname, kmer_length):\n",
    "    train_df, val_df = load_shmoof_dataframes(shmoof_path, val_nickname=nickname) #, sample_count=1000)\n",
    "    train_dataset = framework.SHMoofDataset(train_df, kmer_length=kmer_length, max_length=max_length)\n",
    "    val_dataset = framework.SHMoofDataset(val_df, kmer_length=kmer_length, max_length=max_length)\n",
    "    return train_dataset, val_dataset\n",
    "\n",
    "# train_loader = torch.utils.data.DataLoader(train_dataset, batch_size=batch_size, shuffle=True)\n",
    "# val_loader = torch.utils.data.DataLoader(val_dataset, batch_size=batch_size, shuffle=False)"
   ]
  },
  {
   "cell_type": "code",
   "execution_count": 3,
   "metadata": {},
   "outputs": [],
   "source": [
    "burrito_params = {\n",
    "    \"batch_size\": 1024,\n",
    "    \"learning_rate\": 0.1,\n",
    "    \"min_learning_rate\": 1e-4,\n",
    "    \"l2_regularization_coeff\": 1e-6\n",
    "}\n",
    "epochs = 100"
   ]
  },
  {
   "cell_type": "code",
   "execution_count": 4,
   "metadata": {},
   "outputs": [
    {
     "name": "stdout",
     "output_type": "stream",
     "text": [
      "Val nickname is 59\n",
      "\tTraining cnn_sml...\n"
     ]
    },
    {
     "name": "stderr",
     "output_type": "stream",
     "text": [
      "Epoch:  43%|████▎     | 43/100 [04:27<05:54,  6.22s/it, loss_diff=4.707e-07, lr=3.2e-5]  \n"
     ]
    },
    {
     "name": "stdout",
     "output_type": "stream",
     "text": [
      "\tTraining cnn_med...\n"
     ]
    },
    {
     "name": "stderr",
     "output_type": "stream",
     "text": [
      "Epoch:  37%|███▋      | 37/100 [04:28<07:37,  7.27s/it, loss_diff=8.472e-07, lr=3.2e-5]  \n"
     ]
    },
    {
     "name": "stdout",
     "output_type": "stream",
     "text": [
      "\tTraining cnn_lrg...\n"
     ]
    },
    {
     "name": "stderr",
     "output_type": "stream",
     "text": [
      "Epoch:  40%|████      | 40/100 [05:34<08:21,  8.37s/it, loss_diff=-1.148e-06, lr=3.2e-5] \n"
     ]
    },
    {
     "name": "stdout",
     "output_type": "stream",
     "text": [
      "\tTraining fivemer...\n"
     ]
    },
    {
     "name": "stderr",
     "output_type": "stream",
     "text": [
      "Epoch:  33%|███▎      | 33/100 [00:30<01:02,  1.08it/s, loss_diff=1.577e-07, lr=3.2e-5]  \n"
     ]
    },
    {
     "name": "stdout",
     "output_type": "stream",
     "text": [
      "\tTraining shmoof...\n"
     ]
    },
    {
     "name": "stderr",
     "output_type": "stream",
     "text": [
      "Epoch:  43%|████▎     | 43/100 [00:40<00:53,  1.07it/s, loss_diff=6.424e-08, lr=3.2e-5]  \n"
     ]
    },
    {
     "name": "stdout",
     "output_type": "stream",
     "text": [
      "Val nickname is 88\n",
      "\tTraining cnn_sml...\n"
     ]
    },
    {
     "name": "stderr",
     "output_type": "stream",
     "text": [
      "Epoch:  36%|███▌      | 36/100 [04:23<07:47,  7.31s/it, loss_diff=-1.697e-06, lr=3.2e-5] \n"
     ]
    },
    {
     "name": "stdout",
     "output_type": "stream",
     "text": [
      "\tTraining cnn_med...\n"
     ]
    },
    {
     "name": "stderr",
     "output_type": "stream",
     "text": [
      "Epoch:  29%|██▉       | 29/100 [04:01<09:50,  8.32s/it, loss_diff=2.188e-06, lr=3.2e-5]  \n"
     ]
    },
    {
     "name": "stdout",
     "output_type": "stream",
     "text": [
      "\tTraining cnn_lrg...\n"
     ]
    },
    {
     "name": "stderr",
     "output_type": "stream",
     "text": [
      "Epoch:  30%|███       | 30/100 [04:18<10:03,  8.62s/it, loss_diff=3.409e-06, lr=3.2e-5]  \n"
     ]
    },
    {
     "name": "stdout",
     "output_type": "stream",
     "text": [
      "\tTraining fivemer...\n"
     ]
    },
    {
     "name": "stderr",
     "output_type": "stream",
     "text": [
      "Epoch:  32%|███▏      | 32/100 [00:30<01:04,  1.06it/s, loss_diff=1.963e-07, lr=3.2e-5]  \n"
     ]
    },
    {
     "name": "stdout",
     "output_type": "stream",
     "text": [
      "\tTraining shmoof...\n"
     ]
    },
    {
     "name": "stderr",
     "output_type": "stream",
     "text": [
      "Epoch:  35%|███▌      | 35/100 [00:33<01:02,  1.05it/s, loss_diff=3.492e-08, lr=3.2e-5]  \n"
     ]
    },
    {
     "name": "stdout",
     "output_type": "stream",
     "text": [
      "Val nickname is 97\n",
      "\tTraining cnn_sml...\n"
     ]
    },
    {
     "name": "stderr",
     "output_type": "stream",
     "text": [
      "Epoch:  33%|███▎      | 33/100 [04:50<09:49,  8.80s/it, loss_diff=-7.065e-07, lr=3.2e-5] \n"
     ]
    },
    {
     "name": "stdout",
     "output_type": "stream",
     "text": [
      "\tTraining cnn_med...\n"
     ]
    },
    {
     "name": "stderr",
     "output_type": "stream",
     "text": [
      "Epoch:  42%|████▏     | 42/100 [06:24<08:51,  9.16s/it, loss_diff=2.855e-07, lr=3.2e-5]  \n"
     ]
    },
    {
     "name": "stdout",
     "output_type": "stream",
     "text": [
      "\tTraining cnn_lrg...\n"
     ]
    },
    {
     "name": "stderr",
     "output_type": "stream",
     "text": [
      "Epoch:  40%|████      | 40/100 [06:07<09:10,  9.18s/it, loss_diff=-1.514e-06, lr=3.2e-5] \n"
     ]
    },
    {
     "name": "stdout",
     "output_type": "stream",
     "text": [
      "\tTraining fivemer...\n"
     ]
    },
    {
     "name": "stderr",
     "output_type": "stream",
     "text": [
      "Epoch:  31%|███       | 31/100 [00:29<01:04,  1.06it/s, loss_diff=4.885e-08, lr=3.2e-5]  \n"
     ]
    },
    {
     "name": "stdout",
     "output_type": "stream",
     "text": [
      "\tTraining shmoof...\n"
     ]
    },
    {
     "name": "stderr",
     "output_type": "stream",
     "text": [
      "Epoch:  28%|██▊       | 28/100 [00:26<01:08,  1.05it/s, loss_diff=1.663e-08, lr=3.2e-5]  \n"
     ]
    },
    {
     "name": "stdout",
     "output_type": "stream",
     "text": [
      "Val nickname is small\n",
      "\tTraining cnn_sml...\n"
     ]
    },
    {
     "name": "stderr",
     "output_type": "stream",
     "text": [
      "Epoch:  33%|███▎      | 33/100 [04:04<08:16,  7.41s/it, loss_diff=5.352e-07, lr=3.2e-5]  \n"
     ]
    },
    {
     "name": "stdout",
     "output_type": "stream",
     "text": [
      "\tTraining cnn_med...\n"
     ]
    },
    {
     "name": "stderr",
     "output_type": "stream",
     "text": [
      "Epoch:  29%|██▉       | 29/100 [04:04<09:58,  8.43s/it, loss_diff=-2.905e-07, lr=3.2e-5] \n"
     ]
    },
    {
     "name": "stdout",
     "output_type": "stream",
     "text": [
      "\tTraining cnn_lrg...\n"
     ]
    },
    {
     "name": "stderr",
     "output_type": "stream",
     "text": [
      "Epoch:  34%|███▍      | 34/100 [04:41<09:07,  8.29s/it, loss_diff=-9.606e-07, lr=3.2e-5] \n"
     ]
    },
    {
     "name": "stdout",
     "output_type": "stream",
     "text": [
      "\tTraining fivemer...\n"
     ]
    },
    {
     "name": "stderr",
     "output_type": "stream",
     "text": [
      "Epoch:  37%|███▋      | 37/100 [00:35<00:59,  1.05it/s, loss_diff=1.963e-08, lr=3.2e-5]  \n"
     ]
    },
    {
     "name": "stdout",
     "output_type": "stream",
     "text": [
      "\tTraining shmoof...\n"
     ]
    },
    {
     "name": "stderr",
     "output_type": "stream",
     "text": [
      "Epoch:  31%|███       | 31/100 [00:29<01:06,  1.04it/s, loss_diff=-1.065e-07, lr=3.2e-5] \n"
     ]
    },
    {
     "data": {
      "text/html": [
       "<div>\n",
       "<style scoped>\n",
       "    .dataframe tbody tr th:only-of-type {\n",
       "        vertical-align: middle;\n",
       "    }\n",
       "\n",
       "    .dataframe tbody tr th {\n",
       "        vertical-align: top;\n",
       "    }\n",
       "\n",
       "    .dataframe thead th {\n",
       "        text-align: right;\n",
       "    }\n",
       "</style>\n",
       "<table border=\"1\" class=\"dataframe\">\n",
       "  <thead>\n",
       "    <tr style=\"text-align: right;\">\n",
       "      <th></th>\n",
       "      <th>val_nickname</th>\n",
       "      <th>model name</th>\n",
       "      <th>model</th>\n",
       "      <th>parameter count</th>\n",
       "      <th>val_loss</th>\n",
       "    </tr>\n",
       "  </thead>\n",
       "  <tbody>\n",
       "    <tr>\n",
       "      <th>0</th>\n",
       "      <td>59</td>\n",
       "      <td>cnn_sml</td>\n",
       "      <td>CNNModel(\\n  (kmer_embedding): Embedding(65, 6...</td>\n",
       "      <td>1007</td>\n",
       "      <td>0.058132</td>\n",
       "    </tr>\n",
       "    <tr>\n",
       "      <th>1</th>\n",
       "      <td>59</td>\n",
       "      <td>cnn_med</td>\n",
       "      <td>CNNModel(\\n  (kmer_embedding): Embedding(65, 9...</td>\n",
       "      <td>1495</td>\n",
       "      <td>0.058022</td>\n",
       "    </tr>\n",
       "    <tr>\n",
       "      <th>2</th>\n",
       "      <td>59</td>\n",
       "      <td>cnn_lrg</td>\n",
       "      <td>CNNModel(\\n  (kmer_embedding): Embedding(65, 7...</td>\n",
       "      <td>1957</td>\n",
       "      <td>0.057902</td>\n",
       "    </tr>\n",
       "    <tr>\n",
       "      <th>0</th>\n",
       "      <td>59</td>\n",
       "      <td>fivemer</td>\n",
       "      <td>FivemerModel(\\n  (kmer_embedding): Embedding(1...</td>\n",
       "      <td>1025</td>\n",
       "      <td>0.058234</td>\n",
       "    </tr>\n",
       "    <tr>\n",
       "      <th>1</th>\n",
       "      <td>59</td>\n",
       "      <td>shmoof</td>\n",
       "      <td>SHMoofModel(\\n  (kmer_embedding): Embedding(10...</td>\n",
       "      <td>1435</td>\n",
       "      <td>0.058080</td>\n",
       "    </tr>\n",
       "    <tr>\n",
       "      <th>0</th>\n",
       "      <td>88</td>\n",
       "      <td>cnn_sml</td>\n",
       "      <td>CNNModel(\\n  (kmer_embedding): Embedding(65, 6...</td>\n",
       "      <td>1007</td>\n",
       "      <td>0.050669</td>\n",
       "    </tr>\n",
       "    <tr>\n",
       "      <th>1</th>\n",
       "      <td>88</td>\n",
       "      <td>cnn_med</td>\n",
       "      <td>CNNModel(\\n  (kmer_embedding): Embedding(65, 9...</td>\n",
       "      <td>1495</td>\n",
       "      <td>0.050384</td>\n",
       "    </tr>\n",
       "    <tr>\n",
       "      <th>2</th>\n",
       "      <td>88</td>\n",
       "      <td>cnn_lrg</td>\n",
       "      <td>CNNModel(\\n  (kmer_embedding): Embedding(65, 7...</td>\n",
       "      <td>1957</td>\n",
       "      <td>0.050376</td>\n",
       "    </tr>\n",
       "    <tr>\n",
       "      <th>0</th>\n",
       "      <td>88</td>\n",
       "      <td>fivemer</td>\n",
       "      <td>FivemerModel(\\n  (kmer_embedding): Embedding(1...</td>\n",
       "      <td>1025</td>\n",
       "      <td>0.050709</td>\n",
       "    </tr>\n",
       "    <tr>\n",
       "      <th>1</th>\n",
       "      <td>88</td>\n",
       "      <td>shmoof</td>\n",
       "      <td>SHMoofModel(\\n  (kmer_embedding): Embedding(10...</td>\n",
       "      <td>1435</td>\n",
       "      <td>0.050648</td>\n",
       "    </tr>\n",
       "    <tr>\n",
       "      <th>0</th>\n",
       "      <td>97</td>\n",
       "      <td>cnn_sml</td>\n",
       "      <td>CNNModel(\\n  (kmer_embedding): Embedding(65, 6...</td>\n",
       "      <td>1007</td>\n",
       "      <td>0.054984</td>\n",
       "    </tr>\n",
       "    <tr>\n",
       "      <th>1</th>\n",
       "      <td>97</td>\n",
       "      <td>cnn_med</td>\n",
       "      <td>CNNModel(\\n  (kmer_embedding): Embedding(65, 9...</td>\n",
       "      <td>1495</td>\n",
       "      <td>0.054808</td>\n",
       "    </tr>\n",
       "    <tr>\n",
       "      <th>2</th>\n",
       "      <td>97</td>\n",
       "      <td>cnn_lrg</td>\n",
       "      <td>CNNModel(\\n  (kmer_embedding): Embedding(65, 7...</td>\n",
       "      <td>1957</td>\n",
       "      <td>0.054812</td>\n",
       "    </tr>\n",
       "    <tr>\n",
       "      <th>0</th>\n",
       "      <td>97</td>\n",
       "      <td>fivemer</td>\n",
       "      <td>FivemerModel(\\n  (kmer_embedding): Embedding(1...</td>\n",
       "      <td>1025</td>\n",
       "      <td>0.055359</td>\n",
       "    </tr>\n",
       "    <tr>\n",
       "      <th>1</th>\n",
       "      <td>97</td>\n",
       "      <td>shmoof</td>\n",
       "      <td>SHMoofModel(\\n  (kmer_embedding): Embedding(10...</td>\n",
       "      <td>1435</td>\n",
       "      <td>0.054833</td>\n",
       "    </tr>\n",
       "    <tr>\n",
       "      <th>0</th>\n",
       "      <td>small</td>\n",
       "      <td>cnn_sml</td>\n",
       "      <td>CNNModel(\\n  (kmer_embedding): Embedding(65, 6...</td>\n",
       "      <td>1007</td>\n",
       "      <td>0.055569</td>\n",
       "    </tr>\n",
       "    <tr>\n",
       "      <th>1</th>\n",
       "      <td>small</td>\n",
       "      <td>cnn_med</td>\n",
       "      <td>CNNModel(\\n  (kmer_embedding): Embedding(65, 9...</td>\n",
       "      <td>1495</td>\n",
       "      <td>0.055433</td>\n",
       "    </tr>\n",
       "    <tr>\n",
       "      <th>2</th>\n",
       "      <td>small</td>\n",
       "      <td>cnn_lrg</td>\n",
       "      <td>CNNModel(\\n  (kmer_embedding): Embedding(65, 7...</td>\n",
       "      <td>1957</td>\n",
       "      <td>0.055430</td>\n",
       "    </tr>\n",
       "    <tr>\n",
       "      <th>0</th>\n",
       "      <td>small</td>\n",
       "      <td>fivemer</td>\n",
       "      <td>FivemerModel(\\n  (kmer_embedding): Embedding(1...</td>\n",
       "      <td>1025</td>\n",
       "      <td>0.055740</td>\n",
       "    </tr>\n",
       "    <tr>\n",
       "      <th>1</th>\n",
       "      <td>small</td>\n",
       "      <td>shmoof</td>\n",
       "      <td>SHMoofModel(\\n  (kmer_embedding): Embedding(10...</td>\n",
       "      <td>1435</td>\n",
       "      <td>0.055615</td>\n",
       "    </tr>\n",
       "  </tbody>\n",
       "</table>\n",
       "</div>"
      ],
      "text/plain": [
       "  val_nickname model name                                              model  \\\n",
       "0           59    cnn_sml  CNNModel(\\n  (kmer_embedding): Embedding(65, 6...   \n",
       "1           59    cnn_med  CNNModel(\\n  (kmer_embedding): Embedding(65, 9...   \n",
       "2           59    cnn_lrg  CNNModel(\\n  (kmer_embedding): Embedding(65, 7...   \n",
       "0           59    fivemer  FivemerModel(\\n  (kmer_embedding): Embedding(1...   \n",
       "1           59     shmoof  SHMoofModel(\\n  (kmer_embedding): Embedding(10...   \n",
       "0           88    cnn_sml  CNNModel(\\n  (kmer_embedding): Embedding(65, 6...   \n",
       "1           88    cnn_med  CNNModel(\\n  (kmer_embedding): Embedding(65, 9...   \n",
       "2           88    cnn_lrg  CNNModel(\\n  (kmer_embedding): Embedding(65, 7...   \n",
       "0           88    fivemer  FivemerModel(\\n  (kmer_embedding): Embedding(1...   \n",
       "1           88     shmoof  SHMoofModel(\\n  (kmer_embedding): Embedding(10...   \n",
       "0           97    cnn_sml  CNNModel(\\n  (kmer_embedding): Embedding(65, 6...   \n",
       "1           97    cnn_med  CNNModel(\\n  (kmer_embedding): Embedding(65, 9...   \n",
       "2           97    cnn_lrg  CNNModel(\\n  (kmer_embedding): Embedding(65, 7...   \n",
       "0           97    fivemer  FivemerModel(\\n  (kmer_embedding): Embedding(1...   \n",
       "1           97     shmoof  SHMoofModel(\\n  (kmer_embedding): Embedding(10...   \n",
       "0        small    cnn_sml  CNNModel(\\n  (kmer_embedding): Embedding(65, 6...   \n",
       "1        small    cnn_med  CNNModel(\\n  (kmer_embedding): Embedding(65, 9...   \n",
       "2        small    cnn_lrg  CNNModel(\\n  (kmer_embedding): Embedding(65, 7...   \n",
       "0        small    fivemer  FivemerModel(\\n  (kmer_embedding): Embedding(1...   \n",
       "1        small     shmoof  SHMoofModel(\\n  (kmer_embedding): Embedding(10...   \n",
       "\n",
       "   parameter count  val_loss  \n",
       "0             1007  0.058132  \n",
       "1             1495  0.058022  \n",
       "2             1957  0.057902  \n",
       "0             1025  0.058234  \n",
       "1             1435  0.058080  \n",
       "0             1007  0.050669  \n",
       "1             1495  0.050384  \n",
       "2             1957  0.050376  \n",
       "0             1025  0.050709  \n",
       "1             1435  0.050648  \n",
       "0             1007  0.054984  \n",
       "1             1495  0.054808  \n",
       "2             1957  0.054812  \n",
       "0             1025  0.055359  \n",
       "1             1435  0.054833  \n",
       "0             1007  0.055569  \n",
       "1             1495  0.055433  \n",
       "2             1957  0.055430  \n",
       "0             1025  0.055740  \n",
       "1             1435  0.055615  "
      ]
     },
     "execution_count": 4,
     "metadata": {},
     "output_type": "execute_result"
    }
   ],
   "source": [
    "def train_and_evaluate(model_name, model_instance, train_dataset, val_dataset):\n",
    "    print(f\"\\tTraining {model_name}...\")\n",
    "    if \"cnn\" in model_name:\n",
    "        train_dataset.to(device)\n",
    "        val_dataset.to(device)\n",
    "        model_instance.to(device)\n",
    "    burrito = framework.Burrito(train_dataset, val_dataset, model_instance, verbose=False, **burrito_params)\n",
    "    \n",
    "    train_history = burrito.train(epochs=epochs)\n",
    "    # final_train_loss = burrito.process_data_loader(train_loader)\n",
    "    best_val_loss = train_history['val_loss'].min()\n",
    "\n",
    "    # Record pre-training and post-training losses\n",
    "    result = {'model name': model_name, 'model': str(model_instance), 'parameter count': parameter_count_of_model(model_instance), 'val_loss': best_val_loss}\n",
    "    return result\n",
    "\n",
    "def comparison_of_data(model_instances, train_dataset, val_dataset):\n",
    "    results_list = []\n",
    "\n",
    "    for model_name, model_instance in model_instances.items():\n",
    "        result = train_and_evaluate(model_name, model_instance, train_dataset, val_dataset)\n",
    "        results_list.append(result)\n",
    "\n",
    "    results_df = pd.DataFrame(results_list)\n",
    "    return results_df\n",
    "\n",
    "comparison_dfs = []\n",
    "for nickname in val_nicknames:\n",
    "    print(f\"Val nickname is {nickname}\")\n",
    "    train_dataset_3, val_dataset_3 = data_of_nickname(nickname, kmer_length=3)\n",
    "    train_dataset_5, val_dataset_5 = data_of_nickname(nickname, kmer_length=5)\n",
    "    \n",
    "    model_instances_3 = {\n",
    "# hyperparameter optimization on 2023-11-23\n",
    "# for model with <= 1024 parameters\n",
    "# Best Hyperparameters: {'kernel_size': 7, 'dropout': 0.0, 'embedding_dim': 6, 'num_filters': 14}\n",
    "# for model with <= 1524 parameters\n",
    "# Best Hyperparameters: {'kernel_size': 11, 'dropout': 0.1, 'embedding_dim': 9, 'num_filters': 9}\n",
    "# for model with <= 2048 parameters\n",
    "# Best Hyperparameters: {'kernel_size': 11, 'dropout': 0.3, 'embedding_dim': 7, 'num_filters': 19}\n",
    "\n",
    "        \"cnn_sml\": models.CNNModel(train_dataset_3, embedding_dim=6, num_filters=14, kernel_size=7, dropout_rate=0.0),\n",
    "        \"cnn_med\": models.CNNModel(train_dataset_3, embedding_dim=9, num_filters=9, kernel_size=11, dropout_rate=0.1),\n",
    "        \"cnn_lrg\": models.CNNModel(train_dataset_3, embedding_dim=7, num_filters=19, kernel_size=11, dropout_rate=0.3),\n",
    "    }\n",
    "\n",
    "    model_instances_5 = {\n",
    "        \"fivemer\": models.FivemerModel(train_dataset_5),\n",
    "        \"shmoof\": models.SHMoofModel(train_dataset_5),\n",
    "    }\n",
    "     \n",
    "    comparison_df = \\\n",
    "        pd.concat([comparison_of_data(model_instances_3, train_dataset_3, val_dataset_3),\n",
    "                    comparison_of_data(model_instances_5, train_dataset_5, val_dataset_5)])\n",
    "    comparison_df[\"val_nickname\"] = nickname\n",
    "\n",
    "    # make val_nickname the first column\n",
    "    cols = comparison_df.columns.tolist()\n",
    "    cols = cols[-1:] + cols[:-1]\n",
    "    comparison_df = comparison_df[cols]\n",
    "\n",
    "    comparison_dfs.append(comparison_df)\n",
    "\n",
    "final_df = pd.concat(comparison_dfs)\n",
    "final_df.to_csv(f\"_ignore/model_comparison_{framework.timestamp_str()}.csv\", index=False)\n",
    "final_df\n",
    "    "
   ]
  },
  {
   "cell_type": "code",
   "execution_count": 10,
   "metadata": {},
   "outputs": [
    {
     "data": {
      "image/png": "[encoded data removed]",
      "text/plain": [
       "<Figure size 1800x1200 with 1 Axes>"
      ]
     },
     "metadata": {},
     "output_type": "display_data"
    }
   ],
   "source": [
    "import pandas as pd\n",
    "import matplotlib.pyplot as plt\n",
    "\n",
    "df = final_df\n",
    "# df = pd.read_csv(\"/Users/matsen/re/netam/notebooks/_ignore/model_comparison_20231122_072627.csv\")\n",
    "\n",
    "# Calculate the difference in validation loss from the fivemer model\n",
    "loss_diffs = []\n",
    "for nickname in df['val_nickname'].unique():\n",
    "    fivemer_loss = df[(df['model name'] == 'fivemer') & (df['val_nickname'] == nickname)]['val_loss'].values[0]\n",
    "    for _, row in df[df['val_nickname'] == nickname].iterrows():\n",
    "        if row['model'] != 'fivemer':\n",
    "            diff = row['val_loss'] - fivemer_loss\n",
    "            loss_diffs.append({'val_nickname': nickname, 'model': row['model name'], 'parameter_count': row['parameter count'], 'loss_diff': diff})\n",
    "\n",
    "# Convert to DataFrame\n",
    "loss_diff_df = pd.DataFrame(loss_diffs)\n",
    "\n",
    "# Plotting\n",
    "fig, ax = plt.subplots(figsize=(12, 8))\n",
    "for nickname in loss_diff_df['val_nickname'].unique():\n",
    "    subset = loss_diff_df[loss_diff_df['val_nickname'] == nickname]\n",
    "    ax.scatter(subset['parameter_count'], subset['loss_diff'], label=nickname)\n",
    "\n",
    "ax.set_xlabel('Parameter Count')\n",
    "ax.set_ylabel('Validation Loss Difference from Fivemer')\n",
    "ax.set_title('Model Performance Relative to Fivemer')\n",
    "ax.axhline(0, color='grey', lw=2, linestyle='--')\n",
    "ax.legend()\n",
    "plt.show()\n"
   ]
  }
 ],
 "metadata": {
  "kernelspec": {
   "display_name": "epam",
   "language": "python",
   "name": "python3"
  },
  "language_info": {
   "codemirror_mode": {
    "name": "ipython",
    "version": 3
   },
   "file_extension": ".py",
   "mimetype": "text/x-python",
   "name": "python",
   "nbconvert_exporter": "python",
   "pygments_lexer": "ipython3",
   "version": "3.9.18"
  }
 },
 "nbformat": 4,
 "nbformat_minor": 2
}
