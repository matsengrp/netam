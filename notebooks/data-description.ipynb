{
 "cells": [
  {
   "cell_type": "code",
   "execution_count": 1,
   "metadata": {},
   "outputs": [
    {
     "data": {
      "text/plain": [
       "sample_id\n",
       "326651    22424\n",
       "326713    13186\n",
       "327059     4686\n",
       "316188     3067\n",
       "326797     3028\n",
       "326780     1573\n",
       "326737      442\n",
       "326650      324\n",
       "326907      286\n",
       "Name: count, dtype: int64"
      ]
     },
     "execution_count": 1,
     "metadata": {},
     "output_type": "execute_result"
    }
   ],
   "source": [
    "import pandas as pd\n",
    "\n",
    "shmoof_path = \"/Users/matsen/data/shmoof_edges_11-Jan-2023_NoNode0_iqtree_K80+R_masked.csv\"\n",
    "df = pd.read_csv(shmoof_path)\n",
    "\n",
    "df = df[df[\"parent\"] != df[\"child\"]]\n",
    "\n",
    "df[\"sample_id\"].value_counts()"
   ]
  },
  {
   "cell_type": "code",
   "execution_count": 2,
   "metadata": {},
   "outputs": [
    {
     "data": {
      "text/plain": [
       "nickname\n",
       "51       22424\n",
       "small    13406\n",
       "13       13186\n",
       "Name: count, dtype: int64"
      ]
     },
     "execution_count": 2,
     "metadata": {},
     "output_type": "execute_result"
    }
   ],
   "source": [
    "df[\"nickname\"] = \"small\"\n",
    "df.loc[df[\"sample_id\"] == 326651, \"nickname\"] = \"51\"\n",
    "df.loc[df[\"sample_id\"] == 326713, \"nickname\"] = \"13\"\n",
    "\n",
    "df[\"nickname\"].value_counts()"
   ]
  },
  {
   "cell_type": "code",
   "execution_count": 3,
   "metadata": {},
   "outputs": [],
   "source": [
    "from netam.framework import load_shmoof_dataframes\n",
    "\n",
    "train_df, val_df = load_shmoof_dataframes(shmoof_path, val_nickname=\"small\")\n",
    "\n",
    "assert len(train_df) == 22424 + 13186\n",
    "assert len(val_df) == 13406"
   ]
  }
 ],
 "metadata": {
  "kernelspec": {
   "display_name": "epam",
   "language": "python",
   "name": "python3"
  },
  "language_info": {
   "codemirror_mode": {
    "name": "ipython",
    "version": 3
   },
   "file_extension": ".py",
   "mimetype": "text/x-python",
   "name": "python",
   "nbconvert_exporter": "python",
   "pygments_lexer": "ipython3",
   "version": "3.9.18"
  }
 },
 "nbformat": 4,
 "nbformat_minor": 2
}
