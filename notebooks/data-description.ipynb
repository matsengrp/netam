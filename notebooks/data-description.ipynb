{
 "cells": [
  {
   "cell_type": "code",
   "execution_count": 3,
   "metadata": {},
   "outputs": [],
   "source": [
    "import pandas as pd\n",
    "import torch\n",
    "\n",
    "from netam import framework, models"
   ]
  },
  {
   "cell_type": "code",
   "execution_count": 4,
   "metadata": {},
   "outputs": [
    {
     "data": {
      "text/plain": [
       "sample_id\n",
       "326651    22424\n",
       "326713    13186\n",
       "327059     4686\n",
       "316188     3067\n",
       "326797     3028\n",
       "326780     1573\n",
       "326737      442\n",
       "326650      324\n",
       "326907      286\n",
       "Name: count, dtype: int64"
      ]
     },
     "execution_count": 4,
     "metadata": {},
     "output_type": "execute_result"
    }
   ],
   "source": [
    "\n",
    "shmoof_path = \"/Users/matsen/data/shmoof_edges_11-Jan-2023_NoNode0_iqtree_K80+R_masked.csv\"\n",
    "df = pd.read_csv(shmoof_path)\n",
    "\n",
    "df = df[df[\"parent\"] != df[\"child\"]]\n",
    "\n",
    "df[\"sample_id\"].value_counts()"
   ]
  },
  {
   "cell_type": "code",
   "execution_count": 5,
   "metadata": {},
   "outputs": [
    {
     "data": {
      "text/plain": [
       "nickname\n",
       "51       22424\n",
       "small    13406\n",
       "13       13186\n",
       "Name: count, dtype: int64"
      ]
     },
     "execution_count": 5,
     "metadata": {},
     "output_type": "execute_result"
    }
   ],
   "source": [
    "df[\"nickname\"] = \"small\"\n",
    "df.loc[df[\"sample_id\"] == 326651, \"nickname\"] = \"51\"\n",
    "df.loc[df[\"sample_id\"] == 326713, \"nickname\"] = \"13\"\n",
    "\n",
    "df[\"nickname\"].value_counts()"
   ]
  },
  {
   "cell_type": "code",
   "execution_count": 6,
   "metadata": {},
   "outputs": [],
   "source": [
    "from netam.framework import load_shmoof_dataframes\n",
    "\n",
    "train_df, val_df = load_shmoof_dataframes(shmoof_path, val_nickname=\"small\")\n",
    "\n",
    "assert len(train_df) == 22424 + 13186\n",
    "assert len(val_df) == 13406"
   ]
  },
  {
   "cell_type": "code",
   "execution_count": 9,
   "metadata": {},
   "outputs": [
    {
     "name": "stdout",
     "output_type": "stream",
     "text": [
      "evaluating on split...\n",
      "evaluating on 51...\n",
      "evaluating on small...\n",
      "evaluating on 13...\n"
     ]
    },
    {
     "data": {
      "text/html": [
       "<div>\n",
       "<style scoped>\n",
       "    .dataframe tbody tr th:only-of-type {\n",
       "        vertical-align: middle;\n",
       "    }\n",
       "\n",
       "    .dataframe tbody tr th {\n",
       "        vertical-align: top;\n",
       "    }\n",
       "\n",
       "    .dataframe thead th {\n",
       "        text-align: right;\n",
       "    }\n",
       "</style>\n",
       "<table border=\"1\" class=\"dataframe\">\n",
       "  <thead>\n",
       "    <tr style=\"text-align: right;\">\n",
       "      <th></th>\n",
       "      <th>nickname of val set</th>\n",
       "      <th>train_loss</th>\n",
       "      <th>val_loss</th>\n",
       "    </tr>\n",
       "  </thead>\n",
       "  <tbody>\n",
       "    <tr>\n",
       "      <th>0</th>\n",
       "      <td>split</td>\n",
       "      <td>0.084404</td>\n",
       "      <td>0.085040</td>\n",
       "    </tr>\n",
       "    <tr>\n",
       "      <th>1</th>\n",
       "      <td>51</td>\n",
       "      <td>0.086702</td>\n",
       "      <td>0.087417</td>\n",
       "    </tr>\n",
       "    <tr>\n",
       "      <th>2</th>\n",
       "      <td>small</td>\n",
       "      <td>0.086756</td>\n",
       "      <td>0.073323</td>\n",
       "    </tr>\n",
       "    <tr>\n",
       "      <th>3</th>\n",
       "      <td>13</td>\n",
       "      <td>0.079690</td>\n",
       "      <td>0.091751</td>\n",
       "    </tr>\n",
       "  </tbody>\n",
       "</table>\n",
       "</div>"
      ],
      "text/plain": [
       "  nickname of val set  train_loss  val_loss\n",
       "0               split    0.084404  0.085040\n",
       "1                  51    0.086702  0.087417\n",
       "2               small    0.086756  0.073323\n",
       "3                  13    0.079690  0.091751"
      ]
     },
     "execution_count": 9,
     "metadata": {},
     "output_type": "execute_result"
    }
   ],
   "source": [
    "nicknames = [\"split\", \"51\", \"small\", \"13\"]\n",
    "train_losses = []\n",
    "val_losses = []\n",
    "\n",
    "kmer_length=5\n",
    "max_length=410\n",
    "shmoof_data_path = \"/Users/matsen/data/shmoof_edges_11-Jan-2023_NoNode0_iqtree_K80+R_masked.csv\"\n",
    "\n",
    "for nickname in nicknames:\n",
    "    train_df, val_df = framework.load_shmoof_dataframes(shmoof_data_path, val_nickname=nickname)\n",
    "    train_dataset = framework.SHMoofDataset(train_df, kmer_length=kmer_length, max_length=max_length)\n",
    "    train_loader = torch.utils.data.DataLoader(train_dataset, batch_size=1024, shuffle=False)\n",
    "    val_dataset = framework.SHMoofDataset(val_df, kmer_length=kmer_length, max_length=max_length)\n",
    "    val_loader = torch.utils.data.DataLoader(val_dataset, batch_size=1024, shuffle=False)\n",
    "\n",
    "    print(f\"evaluating on {nickname}...\")\n",
    "    model = models.SHMoofModel(train_dataset)\n",
    "    burrito = framework.Burrito(train_dataset, val_dataset, model, batch_size=1024, learning_rate=0.1, min_learning_rate=1e-4, l2_regularization_coeff=1e-6)\n",
    "    train_losses.append(burrito.process_data_loader(train_loader, train_mode=False))\n",
    "    val_losses.append(burrito.process_data_loader(val_loader, train_mode=False))\n",
    "\n",
    "df = pd.DataFrame({\"nickname of val set\": nicknames, \"train_loss\": train_losses, \"val_loss\": val_losses})\n",
    "df\n",
    "    "
   ]
  },
  {
   "cell_type": "code",
   "execution_count": null,
   "metadata": {},
   "outputs": [],
   "source": []
  }
 ],
 "metadata": {
  "kernelspec": {
   "display_name": "epam",
   "language": "python",
   "name": "python3"
  },
  "language_info": {
   "codemirror_mode": {
    "name": "ipython",
    "version": 3
   },
   "file_extension": ".py",
   "mimetype": "text/x-python",
   "name": "python",
   "nbconvert_exporter": "python",
   "pygments_lexer": "ipython3",
   "version": "3.9.18"
  }
 },
 "nbformat": 4,
 "nbformat_minor": 2
}
