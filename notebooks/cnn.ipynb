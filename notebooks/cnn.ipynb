{
 "cells": [
  {
   "cell_type": "code",
   "execution_count": 1,
   "metadata": {},
   "outputs": [],
   "source": [
    "import pandas as pd\n",
    "import matplotlib.pyplot as plt\n",
    "import seaborn as sns\n",
    "import torch\n",
    "import torch.nn as nn\n",
    "\n",
    "from netam import framework, models\n",
    "from epam.torch_common import pick_device"
   ]
  },
  {
   "cell_type": "code",
   "execution_count": 2,
   "metadata": {},
   "outputs": [
    {
     "data": {
      "text/plain": [
       "0.00403216242498992"
      ]
     },
     "execution_count": 2,
     "metadata": {},
     "output_type": "execute_result"
    }
   ],
   "source": [
    "all_df = pd.read_csv(\"/Users/matsen/data/shmoof_edges_11-Jan-2023_NoNode0_iqtree_K80+R_masked.csv\")\n",
    "\n",
    "# Here's the fraction of sequences of length more than 410\n",
    "(all_df[\"parent\"].str.len() > 410).sum() / len(all_df)"
   ]
  },
  {
   "cell_type": "code",
   "execution_count": 3,
   "metadata": {},
   "outputs": [],
   "source": [
    "train_df, val_df = framework.load_shmoof_dataframes(\"/Users/matsen/data/shmoof_edges_11-Jan-2023_NoNode0_iqtree_K80+R_masked.csv\") #, sample_count=5000)\n"
   ]
  },
  {
   "cell_type": "code",
   "execution_count": 4,
   "metadata": {},
   "outputs": [
    {
     "name": "stdout",
     "output_type": "stream",
     "text": [
      "we have 35830 training examples and 13186 validation examples\n"
     ]
    }
   ],
   "source": [
    "kmer_length = 5\n",
    "max_length = 410\n",
    "\n",
    "train_dataset = framework.SHMoofDataset(train_df, kmer_length=kmer_length, max_length=max_length)\n",
    "val_dataset = framework.SHMoofDataset(val_df, kmer_length=kmer_length, max_length=max_length)\n",
    "\n",
    "device = pick_device()\n",
    "train_dataset.to(device)\n",
    "val_dataset.to(device)\n",
    "\n",
    "print(f\"we have {len(train_dataset)} training examples and {len(val_dataset)} validation examples\")"
   ]
  },
  {
   "cell_type": "code",
   "execution_count": 9,
   "metadata": {},
   "outputs": [],
   "source": [
    "import torch\n",
    "import torch.nn as nn\n",
    "import torch.nn.functional as F\n",
    "\n",
    "class CNNModel(nn.Module):\n",
    "    def __init__(self, dataset, embedding_dim, num_filters, kernel_size):\n",
    "        super(CNNModel, self).__init__()\n",
    "        self.kmer_count = len(dataset.kmer_to_index)\n",
    "\n",
    "        self.kmer_embedding = nn.Embedding(self.kmer_count, embedding_dim)\n",
    "\n",
    "        # Convolutional layer\n",
    "        # Assuming the input to the convolution is a sequence of embeddings\n",
    "        self.conv = nn.Conv1d(in_channels=embedding_dim, out_channels=num_filters, kernel_size=kernel_size, padding='same')\n",
    "\n",
    "        # Linear layer to map the convolved features to log rates\n",
    "        # Adjust the in_features based on the output of the convolutional layer\n",
    "        self.linear = nn.Linear(in_features=num_filters, out_features=1)\n",
    "\n",
    "    def forward(self, encoded_parents, masks):\n",
    "        # Get embeddings for each kmer in the batch\n",
    "        kmer_embeds = self.kmer_embedding(encoded_parents)\n",
    "        \n",
    "        # Reshape for convolutional layer (batch_size, embedding_dim, seq_length)\n",
    "        kmer_embeds = kmer_embeds.permute(0, 2, 1)\n",
    "\n",
    "        # Apply convolutional layer\n",
    "        conv_out = F.relu(self.conv(kmer_embeds))\n",
    "\n",
    "        # Reshape conv_out to (batch_size, seq_length, num_filters)\n",
    "        conv_out = conv_out.permute(0, 2, 1)\n",
    "\n",
    "        # Apply linear layer to each position in the sequence\n",
    "        log_rates = self.linear(conv_out).squeeze(-1)\n",
    "\n",
    "        # Exponentiate to get rates\n",
    "        rates = torch.exp(log_rates)\n",
    "\n",
    "        return rates\n",
    "\n",
    "model = CNNModel(train_dataset, embedding_dim=10, num_filters=10, kernel_size=5)\n",
    "\n",
    "model.to(device)\n"
   ]
  },
  {
   "cell_type": "code",
   "execution_count": 12,
   "metadata": {},
   "outputs": [
    {
     "name": "stdout",
     "output_type": "stream",
     "text": [
      "Using Metal Performance Shaders\n",
      "starting training...\n",
      "Epoch [1/4]\t Loss: 0.058346011\t Val Loss: 0.066361873\n",
      "Epoch [2/4]\t Loss: 0.058051389\t Val Loss: 0.066390379\n",
      "Epoch [3/4]\t Loss: 0.058048603\t Val Loss: 0.066471299\n",
      "Epoch [4/4]\t Loss: 0.058039054\t Val Loss: 0.066398375\n"
     ]
    }
   ],
   "source": [
    "burrito = framework.Burrito(train_dataset, val_dataset, model, batch_size=1024, learning_rate=0.1, l2_regularization_coeff=1e-6)\n",
    "print(\"starting training...\")\n",
    "losses = burrito.train(epochs=4)"
   ]
  },
  {
   "cell_type": "code",
   "execution_count": null,
   "metadata": {},
   "outputs": [],
   "source": [
    "torch.save(model, \"_ignore/noof_model.pt\")"
   ]
  }
 ],
 "metadata": {
  "kernelspec": {
   "display_name": "epam",
   "language": "python",
   "name": "python3"
  },
  "language_info": {
   "codemirror_mode": {
    "name": "ipython",
    "version": 3
   },
   "file_extension": ".py",
   "mimetype": "text/x-python",
   "name": "python",
   "nbconvert_exporter": "python",
   "pygments_lexer": "ipython3",
   "version": "3.9.18"
  }
 },
 "nbformat": 4,
 "nbformat_minor": 2
}
