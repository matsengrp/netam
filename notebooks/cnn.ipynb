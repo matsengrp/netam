{
 "cells": [
  {
   "cell_type": "code",
   "execution_count": 1,
   "metadata": {},
   "outputs": [
    {
     "name": "stderr",
     "output_type": "stream",
     "text": [
      "/Users/matsen/mambaforge/envs/epam/lib/python3.9/site-packages/tqdm/auto.py:21: TqdmWarning: IProgress not found. Please update jupyter and ipywidgets. See https://ipywidgets.readthedocs.io/en/stable/user_install.html\n",
      "  from .autonotebook import tqdm as notebook_tqdm\n"
     ]
    }
   ],
   "source": [
    "import pandas as pd\n",
    "import matplotlib.pyplot as plt\n",
    "import seaborn as sns\n",
    "import torch\n",
    "import torch.nn as nn\n",
    "import torch.nn.functional as F\n",
    "\n",
    "from netam import framework, models\n",
    "from netam.framework import calculate_loss\n",
    "from epam.torch_common import pick_device, print_parameter_count"
   ]
  },
  {
   "cell_type": "code",
   "execution_count": 2,
   "metadata": {},
   "outputs": [
    {
     "data": {
      "text/plain": [
       "0.00403216242498992"
      ]
     },
     "execution_count": 2,
     "metadata": {},
     "output_type": "execute_result"
    }
   ],
   "source": [
    "shmoof_data_path = \"/Users/matsen/data/shmoof_edges_11-Jan-2023_NoNode0_iqtree_K80+R_masked.csv\"\n",
    "all_df = pd.read_csv(shmoof_data_path)\n",
    "\n",
    "# Here's the fraction of sequences of length more than 410\n",
    "(all_df[\"parent\"].str.len() > 410).sum() / len(all_df)"
   ]
  },
  {
   "cell_type": "code",
   "execution_count": 3,
   "metadata": {},
   "outputs": [],
   "source": [
    "train_df, val_df = framework.load_shmoof_dataframes(\"/Users/matsen/data/shmoof_edges_11-Jan-2023_NoNode0_iqtree_K80+R_masked.csv\", val_nickname=\"51\") #, sample_count=5000)\n"
   ]
  },
  {
   "cell_type": "code",
   "execution_count": 4,
   "metadata": {},
   "outputs": [
    {
     "name": "stdout",
     "output_type": "stream",
     "text": [
      "Using Metal Performance Shaders\n",
      "we have 26592 training examples and 22424 validation examples\n"
     ]
    }
   ],
   "source": [
    "kmer_length = 3\n",
    "max_length = 410\n",
    "\n",
    "train_dataset = framework.SHMoofDataset(train_df, kmer_length=kmer_length, max_length=max_length)\n",
    "val_dataset = framework.SHMoofDataset(val_df, kmer_length=kmer_length, max_length=max_length)\n",
    "\n",
    "device = pick_device()\n",
    "train_dataset.to(device)\n",
    "val_dataset.to(device)\n",
    "\n",
    "print(f\"we have {len(train_dataset)} training examples and {len(val_dataset)} validation examples\")"
   ]
  },
  {
   "cell_type": "raw",
   "metadata": {},
   "source": [
    "model = models.CNNModel(train_dataset, embedding_dim=12, num_filters=13, kernel_size=7, dropout_rate=0.1)\n",
    "print_parameter_count(model)\n",
    "model.to(device)"
   ]
  },
  {
   "cell_type": "raw",
   "metadata": {},
   "source": [
    "burrito = framework.Burrito(train_dataset, val_dataset, model, batch_size=1024, learning_rate=0.1, min_learning_rate=1e-5, l2_regularization_coeff=1e-6)\n",
    "print(\"starting training...\")\n",
    "losses = burrito.train(epochs=1)"
   ]
  },
  {
   "cell_type": "code",
   "execution_count": 5,
   "metadata": {},
   "outputs": [
    {
     "name": "stderr",
     "output_type": "stream",
     "text": [
      "[I 2023-11-21 19:51:06,381] A new study created in memory with name: no-name-b30516ae-93e7-4434-b018-9d695d924fe4\n"
     ]
    },
    {
     "name": "stdout",
     "output_type": "stream",
     "text": [
      "Using Metal Performance Shaders\n"
     ]
    },
    {
     "name": "stderr",
     "output_type": "stream",
     "text": [
      "[I 2023-11-21 19:55:30,036] Trial 0 finished with value: 0.060838413528787036 and parameters: {'kernel_size': 9, 'dropout': 0.2, 'embedding_dim': 10, 'num_filters': 7}. Best is trial 0 with value: 0.060838413528787036.\n",
      "[I 2023-11-21 20:00:42,750] Trial 1 finished with value: 0.060794451621188635 and parameters: {'kernel_size': 7, 'dropout': 0.0, 'embedding_dim': 27, 'num_filters': 7}. Best is trial 1 with value: 0.060794451621188635.\n",
      "[I 2023-11-21 20:04:52,711] Trial 2 finished with value: 0.060769484768137524 and parameters: {'kernel_size': 11, 'dropout': 0.2, 'embedding_dim': 12, 'num_filters': 6}. Best is trial 2 with value: 0.060769484768137524.\n",
      "[I 2023-11-21 20:07:25,931] Trial 3 finished with value: 0.06631180427801044 and parameters: {'kernel_size': 15, 'dropout': 0.2, 'embedding_dim': 30, 'num_filters': 12}. Best is trial 2 with value: 0.060769484768137524.\n",
      "[I 2023-11-21 20:12:39,330] Trial 4 finished with value: 0.060504133231961806 and parameters: {'kernel_size': 11, 'dropout': 0.1, 'embedding_dim': 13, 'num_filters': 15}. Best is trial 4 with value: 0.060504133231961806.\n",
      "[I 2023-11-21 20:18:16,381] Trial 5 finished with value: 0.06071766790453128 and parameters: {'kernel_size': 13, 'dropout': 0.1, 'embedding_dim': 21, 'num_filters': 10}. Best is trial 4 with value: 0.060504133231961806.\n",
      "[I 2023-11-21 20:22:45,649] Trial 6 finished with value: 0.06066244104202628 and parameters: {'kernel_size': 9, 'dropout': 0.1, 'embedding_dim': 23, 'num_filters': 8}. Best is trial 4 with value: 0.060504133231961806.\n",
      "[I 2023-11-21 20:28:26,941] Trial 7 finished with value: 0.06049631377851542 and parameters: {'kernel_size': 13, 'dropout': 0.2, 'embedding_dim': 23, 'num_filters': 7}. Best is trial 7 with value: 0.06049631377851542.\n",
      "[I 2023-11-21 20:32:36,301] Trial 8 finished with value: 0.060908718451278106 and parameters: {'kernel_size': 7, 'dropout': 0.0, 'embedding_dim': 12, 'num_filters': 7}. Best is trial 7 with value: 0.06049631377851542.\n",
      "[I 2023-11-21 20:37:02,770] Trial 9 finished with value: 0.0606161682848904 and parameters: {'kernel_size': 11, 'dropout': 0.2, 'embedding_dim': 18, 'num_filters': 7}. Best is trial 7 with value: 0.06049631377851542.\n",
      "[I 2023-11-21 20:41:54,691] Trial 10 finished with value: 0.06044925975105272 and parameters: {'kernel_size': 13, 'dropout': 0.2, 'embedding_dim': 25, 'num_filters': 10}. Best is trial 10 with value: 0.06044925975105272.\n",
      "[I 2023-11-21 20:51:09,569] Trial 11 finished with value: 0.06209887693896279 and parameters: {'kernel_size': 13, 'dropout': 0.2, 'embedding_dim': 25, 'num_filters': 10}. Best is trial 10 with value: 0.06044925975105272.\n",
      "[I 2023-11-21 20:55:53,755] Trial 12 finished with value: 0.0604512604233243 and parameters: {'kernel_size': 13, 'dropout': 0.2, 'embedding_dim': 18, 'num_filters': 12}. Best is trial 10 with value: 0.06044925975105272.\n",
      "[I 2023-11-21 21:01:16,227] Trial 13 finished with value: 0.060534605376961995 and parameters: {'kernel_size': 13, 'dropout': 0.2, 'embedding_dim': 18, 'num_filters': 13}. Best is trial 10 with value: 0.06044925975105272.\n",
      "[I 2023-11-21 21:06:48,085] Trial 14 finished with value: 0.06053225052700143 and parameters: {'kernel_size': 13, 'dropout': 0.2, 'embedding_dim': 16, 'num_filters': 12}. Best is trial 10 with value: 0.06044925975105272.\n",
      "[I 2023-11-21 21:18:18,048] Trial 15 finished with value: 0.06614293887961391 and parameters: {'kernel_size': 15, 'dropout': 0.0, 'embedding_dim': 28, 'num_filters': 14}. Best is trial 10 with value: 0.06044925975105272.\n",
      "[I 2023-11-21 21:22:51,743] Trial 16 finished with value: 0.060493069902578085 and parameters: {'kernel_size': 13, 'dropout': 0.2, 'embedding_dim': 19, 'num_filters': 11}. Best is trial 10 with value: 0.06044925975105272.\n",
      "[I 2023-11-21 21:27:51,806] Trial 17 finished with value: 0.06053559622045206 and parameters: {'kernel_size': 13, 'dropout': 0.2, 'embedding_dim': 15, 'num_filters': 9}. Best is trial 10 with value: 0.06044925975105272.\n",
      "[I 2023-11-21 21:30:37,394] Trial 18 finished with value: 0.06593703948787992 and parameters: {'kernel_size': 13, 'dropout': 0.0, 'embedding_dim': 21, 'num_filters': 11}. Best is trial 10 with value: 0.06044925975105272.\n",
      "[I 2023-11-21 21:36:25,425] Trial 19 finished with value: 0.06070177788808649 and parameters: {'kernel_size': 7, 'dropout': 0.1, 'embedding_dim': 24, 'num_filters': 9}. Best is trial 10 with value: 0.06044925975105272.\n",
      "[I 2023-11-21 21:42:56,713] Trial 20 finished with value: 0.060995679562682134 and parameters: {'kernel_size': 15, 'dropout': 0.2, 'embedding_dim': 16, 'num_filters': 5}. Best is trial 10 with value: 0.06044925975105272.\n",
      "[I 2023-11-21 21:48:25,589] Trial 21 finished with value: 0.060482700525799946 and parameters: {'kernel_size': 13, 'dropout': 0.2, 'embedding_dim': 18, 'num_filters': 11}. Best is trial 10 with value: 0.06044925975105272.\n",
      "[I 2023-11-21 21:53:43,799] Trial 22 finished with value: 0.06043197092332034 and parameters: {'kernel_size': 13, 'dropout': 0.2, 'embedding_dim': 20, 'num_filters': 12}. Best is trial 22 with value: 0.06043197092332034.\n",
      "[I 2023-11-21 21:58:01,996] Trial 23 finished with value: 0.060420312966900216 and parameters: {'kernel_size': 13, 'dropout': 0.2, 'embedding_dim': 21, 'num_filters': 13}. Best is trial 23 with value: 0.060420312966900216.\n",
      "[I 2023-11-21 22:08:45,078] Trial 24 finished with value: 0.06636599825826067 and parameters: {'kernel_size': 13, 'dropout': 0.2, 'embedding_dim': 26, 'num_filters': 14}. Best is trial 23 with value: 0.060420312966900216.\n",
      "[I 2023-11-21 22:19:29,257] Trial 25 finished with value: 0.06550349149609777 and parameters: {'kernel_size': 9, 'dropout': 0.2, 'embedding_dim': 21, 'num_filters': 13}. Best is trial 23 with value: 0.060420312966900216.\n",
      "[I 2023-11-21 22:26:25,153] Trial 26 finished with value: 0.06132257258359381 and parameters: {'kernel_size': 13, 'dropout': 0.2, 'embedding_dim': 22, 'num_filters': 13}. Best is trial 23 with value: 0.060420312966900216.\n",
      "[I 2023-11-21 22:35:12,399] Trial 27 finished with value: 0.06123945820190164 and parameters: {'kernel_size': 13, 'dropout': 0.2, 'embedding_dim': 29, 'num_filters': 15}. Best is trial 23 with value: 0.060420312966900216.\n",
      "[I 2023-11-21 22:41:29,714] Trial 28 finished with value: 0.06559383404141148 and parameters: {'kernel_size': 13, 'dropout': 0.1, 'embedding_dim': 25, 'num_filters': 9}. Best is trial 23 with value: 0.060420312966900216.\n",
      "[I 2023-11-21 22:49:58,487] Trial 29 finished with value: 0.061583177031383655 and parameters: {'kernel_size': 9, 'dropout': 0.0, 'embedding_dim': 20, 'num_filters': 14}. Best is trial 23 with value: 0.060420312966900216.\n",
      "[I 2023-11-21 22:55:13,826] Trial 30 finished with value: 0.06082501910863457 and parameters: {'kernel_size': 7, 'dropout': 0.2, 'embedding_dim': 23, 'num_filters': 11}. Best is trial 23 with value: 0.060420312966900216.\n",
      "[I 2023-11-21 23:06:37,758] Trial 31 finished with value: 0.061918598003326636 and parameters: {'kernel_size': 13, 'dropout': 0.2, 'embedding_dim': 19, 'num_filters': 12}. Best is trial 23 with value: 0.060420312966900216.\n",
      "[I 2023-11-21 23:15:35,489] Trial 32 finished with value: 0.06113851638700211 and parameters: {'kernel_size': 13, 'dropout': 0.2, 'embedding_dim': 16, 'num_filters': 12}. Best is trial 23 with value: 0.060420312966900216.\n",
      "[I 2023-11-21 23:26:27,555] Trial 33 finished with value: 0.06326017130725817 and parameters: {'kernel_size': 13, 'dropout': 0.2, 'embedding_dim': 27, 'num_filters': 13}. Best is trial 23 with value: 0.060420312966900216.\n",
      "[I 2023-11-21 23:37:04,197] Trial 34 finished with value: 0.06241850683195141 and parameters: {'kernel_size': 11, 'dropout': 0.2, 'embedding_dim': 20, 'num_filters': 10}. Best is trial 23 with value: 0.060420312966900216.\n",
      "[I 2023-11-21 23:42:45,596] Trial 35 finished with value: 0.06044593744333455 and parameters: {'kernel_size': 15, 'dropout': 0.2, 'embedding_dim': 14, 'num_filters': 12}. Best is trial 23 with value: 0.060420312966900216.\n",
      "[I 2023-11-21 23:48:48,434] Trial 36 finished with value: 0.0605639320888925 and parameters: {'kernel_size': 15, 'dropout': 0.2, 'embedding_dim': 11, 'num_filters': 11}. Best is trial 23 with value: 0.060420312966900216.\n",
      "[I 2023-11-21 23:51:36,832] Trial 37 finished with value: 0.06602936887550771 and parameters: {'kernel_size': 15, 'dropout': 0.1, 'embedding_dim': 14, 'num_filters': 8}. Best is trial 23 with value: 0.060420312966900216.\n",
      "[I 2023-11-22 00:01:17,693] Trial 38 finished with value: 0.06136082737170667 and parameters: {'kernel_size': 15, 'dropout': 0.2, 'embedding_dim': 25, 'num_filters': 10}. Best is trial 23 with value: 0.060420312966900216.\n",
      "[I 2023-11-22 00:09:40,282] Trial 39 finished with value: 0.062492586114110585 and parameters: {'kernel_size': 15, 'dropout': 0.0, 'embedding_dim': 10, 'num_filters': 15}. Best is trial 23 with value: 0.060420312966900216.\n",
      "[I 2023-11-22 00:21:16,830] Trial 40 finished with value: 0.061316571657918324 and parameters: {'kernel_size': 11, 'dropout': 0.2, 'embedding_dim': 30, 'num_filters': 14}. Best is trial 23 with value: 0.060420312966900216.\n",
      "[I 2023-11-22 00:27:32,409] Trial 41 finished with value: 0.060679837346310876 and parameters: {'kernel_size': 9, 'dropout': 0.2, 'embedding_dim': 17, 'num_filters': 12}. Best is trial 23 with value: 0.060420312966900216.\n",
      "[I 2023-11-22 00:33:38,350] Trial 42 finished with value: 0.060500207374053816 and parameters: {'kernel_size': 13, 'dropout': 0.2, 'embedding_dim': 13, 'num_filters': 12}. Best is trial 23 with value: 0.060420312966900216.\n",
      "[I 2023-11-22 00:39:00,961] Trial 43 finished with value: 0.06061560395324907 and parameters: {'kernel_size': 7, 'dropout': 0.2, 'embedding_dim': 22, 'num_filters': 13}. Best is trial 23 with value: 0.060420312966900216.\n",
      "[I 2023-11-22 00:47:16,516] Trial 44 finished with value: 0.060740385831859 and parameters: {'kernel_size': 13, 'dropout': 0.2, 'embedding_dim': 19, 'num_filters': 10}. Best is trial 23 with value: 0.060420312966900216.\n"
     ]
    },
    {
     "name": "stdout",
     "output_type": "stream",
     "text": [
      "Best Hyperparameters: {'kernel_size': 13, 'dropout': 0.2, 'embedding_dim': 21, 'num_filters': 13}\n",
      "Best Validation Loss: 0.060420312966900216\n"
     ]
    }
   ],
   "source": [
    "cat_params = {\n",
    "    \"kernel_size\": [7, 9, 11, 13, 15],\n",
    "    \"dropout\": [0., 0.1, 0.2],\n",
    "}\n",
    "int_params = {\n",
    "    \"embedding_dim\": (10, 30),\n",
    "    \"num_filters\": (5, 15),\n",
    "}\n",
    "float_params = {\n",
    "}\n",
    "log_float_params = {\n",
    "}\n",
    "fixed_hyperparams = {\n",
    "    \"batch_size\": 1024,\n",
    "    \"learning_rate\": 0.1,\n",
    "    \"min_learning_rate\": 1e-2, # early stopping!\n",
    "    \"dropout\": 0.1,\n",
    "    \"l2_regularization_coeff\": 1e-6,\n",
    "}\n",
    "epochs = 100\n",
    "optuna_steps = 45\n",
    "\n",
    "hyper_burrito = framework.HyperBurrito(pick_device(), train_dataset, val_dataset, models.CNNModel,  epochs=epochs)\n",
    "\n",
    "hyper_burrito.optuna_optimize(optuna_steps, cat_params, int_params, float_params, log_float_params, fixed_hyperparams)"
   ]
  },
  {
   "cell_type": "raw",
   "metadata": {},
   "source": [
    "torch.save(model, \"_ignore/cnn_model.pt\")"
   ]
  }
 ],
 "metadata": {
  "kernelspec": {
   "display_name": "epam",
   "language": "python",
   "name": "python3"
  },
  "language_info": {
   "codemirror_mode": {
    "name": "ipython",
    "version": 3
   },
   "file_extension": ".py",
   "mimetype": "text/x-python",
   "name": "python",
   "nbconvert_exporter": "python",
   "pygments_lexer": "ipython3",
   "version": "3.9.18"
  }
 },
 "nbformat": 4,
 "nbformat_minor": 2
}
