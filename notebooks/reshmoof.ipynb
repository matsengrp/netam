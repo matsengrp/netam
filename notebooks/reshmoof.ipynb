{
 "cells": [
  {
   "cell_type": "code",
   "execution_count": null,
   "metadata": {},
   "outputs": [],
   "source": [
    "import pandas as pd\n",
    "import numpy as np\n",
    "import matplotlib.pyplot as plt\n",
    "plt.rcParams['figure.dpi'] = 150\n",
    "import seaborn as sns\n",
    "\n",
    "from netam import framework, models"
   ]
  },
  {
   "cell_type": "code",
   "execution_count": null,
   "metadata": {},
   "outputs": [],
   "source": [
    "train_df, val_df = framework.load_shmoof_dataframes(\"/Users/matsen/data/shmoof_edges_11-Jan-2023_NoNode0_iqtree_K80+R_masked.csv\") #, sample_count=5000)"
   ]
  },
  {
   "cell_type": "raw",
   "metadata": {},
   "source": [
    "def has_close_mutations(parent, child, max_distance=2, max_length=500):\n",
    "    mutation_indicator = framework.create_mutation_indicator(parent, child, max_length=max_length)\n",
    "    # slide along the indicator and find if we have multiple trues within a window of max_distance\n",
    "    return any([sum(mutation_indicator[i:i+max_distance+1]) > 1 for i in range(len(mutation_indicator) - max_distance - 1)])\n",
    "\n",
    "print(has_close_mutations(\"AAAAAAA\", \"AAAATAT\"), has_close_mutations(\"AAAAAAA\", \"AAATAAT\"))\n",
    "\n",
    "# build a function to add a close_mutations column to a dataframe\n",
    "def add_close_mutations(df, max_distance=2, max_length=500):\n",
    "    df[\"close_mutations\"] = [has_close_mutations(parent, child, max_distance=max_distance, max_length=max_length) for parent, child in zip(df.parent, df.child)]\n",
    "    \n",
    "add_close_mutations(train_df)\n",
    "add_close_mutations(val_df)\n",
    "\n",
    "train_df = train_df[train_df.close_mutations == False]\n",
    "val_df = val_df[val_df.close_mutations == False]"
   ]
  },
  {
   "cell_type": "raw",
   "metadata": {},
   "source": [
    "# Tang data\n",
    "\n",
    "full_df = pd.read_csv(\"/Users/matsen/data/tang-deepshm_size2_edges_22-May-2023.branch_length.csv\", index_col=0).reset_index(drop=True)\n",
    "\n",
    "# only keep rows where parent is different than child\n",
    "full_df = full_df[full_df[\"parent\"] != full_df[\"child\"]]\n",
    "\n",
    "train_df = full_df.sample(frac=0.8)\n",
    "val_df = full_df.drop(train_df.index)\n"
   ]
  },
  {
   "cell_type": "code",
   "execution_count": null,
   "metadata": {},
   "outputs": [],
   "source": [
    "kmer_length = 5\n",
    "max_length = 410\n",
    "\n",
    "train_dataset = framework.SHMoofDataset(train_df, kmer_length=kmer_length, max_length=max_length)\n",
    "val_dataset = framework.SHMoofDataset(val_df, kmer_length=kmer_length, max_length=max_length)\n",
    "\n",
    "print(f\"we have {len(train_dataset)} training examples and {len(val_dataset)} validation examples\")"
   ]
  },
  {
   "cell_type": "code",
   "execution_count": null,
   "metadata": {},
   "outputs": [],
   "source": [
    "model = models.SHMoofModel(train_dataset)\n",
    "burrito = framework.Burrito(train_dataset, val_dataset, model, batch_size=1024, learning_rate=0.1, l2_regularization_coeff=1e-6)\n",
    "print(\"starting training...\")\n",
    "losses = burrito.train(epochs=100)\n",
    "model.write_shmoof_output(\"_ignore/reshmoof\")"
   ]
  },
  {
   "cell_type": "code",
   "execution_count": null,
   "metadata": {},
   "outputs": [],
   "source": [
    "import pandas as pd\n",
    "import matplotlib.pyplot as plt\n",
    "\n",
    "# Load motif mutabilities\n",
    "shmoof_motifs = pd.read_csv('_ignore/original_shmoof/mutabilities_context.tsv', sep='\\t')\n",
    "reshmoof_motifs = pd.read_csv('_ignore/reshmoof/motif_mutabilities.tsv', sep='\\t')\n",
    "\n",
    "# Merge dataframes\n",
    "merged_motifs = pd.merge(shmoof_motifs, reshmoof_motifs, on='Motif', how='inner', suffixes=('_shmoof', '_reshmoof'))\n",
    "\n",
    "# Scatter plot\n",
    "plt.figure(figsize=(8, 6))\n",
    "plt.scatter(merged_motifs['Mutability_shmoof'], merged_motifs['Mutability_reshmoof'], alpha=0.5)\n",
    "\n",
    "# Determine bounds for y=x line\n",
    "min_bound = min(merged_motifs['Mutability_shmoof'].min(), merged_motifs['Mutability_reshmoof'].min())\n",
    "max_bound = max(merged_motifs['Mutability_shmoof'].max(), merged_motifs['Mutability_reshmoof'].max())\n",
    "\n",
    "# Add y=x line\n",
    "plt.plot([min_bound, max_bound], [min_bound, max_bound], 'r--')\n",
    "\n",
    "plt.xlabel('Shmoof Mutability')\n",
    "plt.ylabel('Reshmoof Mutability')\n",
    "plt.title('Comparison of Motif Mutabilities: Shmoof vs. Reshmoof')\n",
    "plt.grid(True)\n",
    "plt.show()"
   ]
  },
  {
   "cell_type": "code",
   "execution_count": null,
   "metadata": {},
   "outputs": [],
   "source": [
    "# Load position mutabilities\n",
    "shmoof_positions = pd.read_csv('_ignore/original_shmoof/mutabilities_position.tsv', sep='\\t')\n",
    "reshmoof_positions = pd.read_csv('_ignore/reshmoof/site_mutabilities.tsv', sep='\\t')\n",
    "\n",
    "# Merge dataframes\n",
    "merged_positions = pd.merge(shmoof_positions, reshmoof_positions, on='Position', suffixes=('_shmoof', '_reshmoof'))\n",
    "merged_positions.sort_values(by='Position', inplace=True)\n",
    "\n",
    "# Line plot\n",
    "plt.figure(figsize=(10, 6))\n",
    "plt.plot(merged_positions['Position'], merged_positions['Mutability_shmoof'], label='Shmoof')\n",
    "plt.plot(merged_positions['Position'], merged_positions['Mutability_reshmoof'], label='Reshmoof')\n",
    "plt.xlabel('Position')\n",
    "plt.ylabel('Mutability')\n",
    "plt.ylim(0, 4)\n",
    "\n",
    "plt.title('Comparison of Position Mutabilities: Shmoof vs. Reshmoof')\n",
    "plt.legend()\n",
    "plt.grid(True)\n",
    "plt.show()\n"
   ]
  },
  {
   "cell_type": "code",
   "execution_count": null,
   "metadata": {},
   "outputs": [],
   "source": [
    "kmer_mutabilities = []\n",
    "\n",
    "# turn reshmoof_motifs into a dict mapping \"Motif\" to \"Mutability\"\n",
    "reshmoof_motifs_dict = dict(zip(reshmoof_motifs[\"Motif\"], reshmoof_motifs[\"Mutability\"]))\n",
    "\n",
    "for parent in train_df[\"parent\"]:\n",
    "    kmer_mutability = np.ones(410)\n",
    "    padded_parent = \"NN\" + parent + \"NN\"\n",
    "    for i in range(min(410, len(padded_parent) - 5)):\n",
    "        kmer_mutability[i] = reshmoof_motifs_dict.get(padded_parent[i:i+5], 1.0)\n",
    "    kmer_mutabilities.append(kmer_mutability)\n",
    "\n",
    "[kmer_mutability.shape for kmer_mutability in kmer_mutabilities]\n",
    "\n",
    "mean_sitewise_mutability = np.stack(kmer_mutabilities).mean(axis=0)\n",
    "mean_sitewise_mutability = pd.Series(mean_sitewise_mutability)\n",
    "\n",
    "plt.figure(figsize=(10, 6))\n",
    "# plt.plot(merged_positions['Position'], merged_positions['Mutability_shmoof'], label='Shmoof')\n",
    "plt.plot(merged_positions['Position'], merged_positions['Mutability_reshmoof'], label='Reshmoof', color='orange')\n",
    "plt.plot(merged_positions['Position'], mean_sitewise_mutability, label='Mean sitewise mutability', color='green')\n",
    "# plt.xlim(75, 200)\n",
    "plt.ylim(0, 4)\n",
    "plt.xlabel('Position')\n",
    "plt.ylabel('Mutability')\n",
    "plt.title('Comparison of Position Mutabilities: Reshmoof vs. Mean sitewise mutability')\n",
    "plt.legend()\n",
    "plt.grid(True)\n",
    "plt.show()"
   ]
  },
  {
   "cell_type": "raw",
   "metadata": {},
   "source": [
    "regularization_coeffs = [0, 1e-8, 1e-7, 1e-6, 1e-5, 1e-4]\n",
    "results = []\n",
    "\n",
    "for coeff in regularization_coeffs:\n",
    "    print(f\"Training with regularization coefficient {coeff}\")\n",
    "    model = models.SHMoofModel(train_dataset)\n",
    "    burrito = framework.Burrito(train_dataset, val_dataset, model, batch_size=1024, learning_rate=0.1, l2_regularization_coeff=1e-6)\n",
    "    loss_history = burrito.train(epochs=20)\n",
    "    final_training_loss = loss_history['training_losses'].iloc[-1]\n",
    "    final_validation_loss = loss_history['validation_losses'].iloc[-1]\n",
    "\n",
    "    results.append({\n",
    "        'Regularization': coeff,\n",
    "        'Final_Training_Loss': final_training_loss,\n",
    "        'Final_Validation_Loss': final_validation_loss\n",
    "    })\n",
    "\n",
    "regularization_results_df = pd.DataFrame(results)\n",
    "plt.figure(figsize=(10, 6))\n",
    "plt.plot(regularization_results_df['Regularization'], regularization_results_df['Final_Training_Loss'], label='Training Loss', marker='o')\n",
    "plt.plot(regularization_results_df['Regularization'], regularization_results_df['Final_Validation_Loss'], label='Validation Loss', marker='x')\n",
    "\n",
    "plt.xscale('log')\n",
    "plt.xlabel('Regularization Coefficient')\n",
    "plt.ylabel('Loss')\n",
    "plt.title('Effect of L2 Regularization on Training and Validation Loss')\n",
    "plt.legend()\n",
    "plt.grid(True)\n",
    "plt.show()"
   ]
  },
  {
   "cell_type": "raw",
   "metadata": {},
   "source": [
    "flipped_model = models.SHMoofModel(train_dataset)\n",
    "flipped_burrito = framework.Burrito(val_dataset, train_dataset, flipped_model, batch_size=1024, learning_rate=0.1, l2_regularization_coeff=1e-6)\n",
    "losses = burrito.train(epochs=100)\n",
    "compare_holdout = pd.DataFrame({\"original\": model.site_rates.detach().numpy(), \"flipped\": flipped_model.site_rates.detach().numpy()})\n",
    "\n",
    "import matplotlib.pyplot as plt\n",
    "import pandas as pd\n",
    "\n",
    "# Plotting\n",
    "plt.figure(figsize=(10, 6))\n",
    "plt.plot(compare_holdout.index, compare_holdout['original'], label='Original')\n",
    "plt.plot(compare_holdout.index, compare_holdout['flipped'], label='Flipped')\n",
    "\n",
    "# Adding title and labels\n",
    "plt.title('Original vs Flipped holdouts')\n",
    "plt.xlabel('Position')\n",
    "plt.ylabel('Site mutability')\n",
    "\n",
    "# Adding legend\n",
    "plt.legend()\n",
    "\n",
    "# Show plot\n",
    "plt.show()"
   ]
  }
 ],
 "metadata": {
  "kernelspec": {
   "display_name": "epam",
   "language": "python",
   "name": "python3"
  },
  "language_info": {
   "codemirror_mode": {
    "name": "ipython",
    "version": 3
   },
   "file_extension": ".py",
   "mimetype": "text/x-python",
   "name": "python",
   "nbconvert_exporter": "python",
   "pygments_lexer": "ipython3",
   "version": "3.9.18"
  }
 },
 "nbformat": 4,
 "nbformat_minor": 2
}
