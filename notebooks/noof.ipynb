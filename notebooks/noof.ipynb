{
 "cells": [
  {
   "cell_type": "code",
   "execution_count": 1,
   "metadata": {},
   "outputs": [
    {
     "name": "stderr",
     "output_type": "stream",
     "text": [
      "/Users/matsen/mambaforge/envs/epam/lib/python3.9/site-packages/tqdm/auto.py:21: TqdmWarning: IProgress not found. Please update jupyter and ipywidgets. See https://ipywidgets.readthedocs.io/en/stable/user_install.html\n",
      "  from .autonotebook import tqdm as notebook_tqdm\n"
     ]
    }
   ],
   "source": [
    "import pandas as pd\n",
    "import matplotlib.pyplot as plt\n",
    "import seaborn as sns\n",
    "import torch\n",
    "\n",
    "from netam import framework, models\n",
    "from epam.torch_common import pick_device"
   ]
  },
  {
   "cell_type": "code",
   "execution_count": 2,
   "metadata": {},
   "outputs": [],
   "source": [
    "shmoof_data_path = \"/Users/matsen/data/shmoof_edges_11-Jan-2023_NoNode0_iqtree_K80+R_masked.csv\"\n",
    "train_df, val_df = framework.load_shmoof_dataframes(shmoof_data_path, val_nickname=\"51\") #, sample_count=5000)\n"
   ]
  },
  {
   "cell_type": "code",
   "execution_count": 3,
   "metadata": {},
   "outputs": [
    {
     "name": "stdout",
     "output_type": "stream",
     "text": [
      "we have 26592 training examples and 22424 validation examples\n"
     ]
    }
   ],
   "source": [
    "kmer_length = 3\n",
    "max_length = 410\n",
    "\n",
    "train_dataset = framework.SHMoofDataset(train_df, kmer_length=kmer_length, max_length=max_length)\n",
    "val_dataset = framework.SHMoofDataset(val_df, kmer_length=kmer_length, max_length=max_length)\n",
    "\n",
    "print(f\"we have {len(train_dataset)} training examples and {len(val_dataset)} validation examples\")"
   ]
  },
  {
   "cell_type": "code",
   "execution_count": null,
   "metadata": {},
   "outputs": [],
   "source": [
    "class NoofModel(nn.Module):\n",
    "    def __init__(\n",
    "        self, dataset, embedding_dim, nhead, dim_feedforward, layer_count, dropout=0.5\n",
    "    ):\n",
    "        super(NoofModel, self).__init__()\n",
    "        self.kmer_count = len(dataset.kmer_to_index)\n",
    "        self.embedding_dim = embedding_dim\n",
    "        self.site_count = dataset.max_length\n",
    "\n",
    "        self.kmer_embedding = nn.Embedding(self.kmer_count, self.embedding_dim)\n",
    "        self.pos_encoder = PositionalEncoding(self.embedding_dim, dropout)\n",
    "\n",
    "        self.encoder_layer = TransformerEncoderLayer(\n",
    "            d_model=self.embedding_dim,\n",
    "            nhead=nhead,\n",
    "            dim_feedforward=dim_feedforward,\n",
    "            dropout=dropout,\n",
    "            batch_first=True,\n",
    "        )\n",
    "        self.encoder = TransformerEncoder(self.encoder_layer, layer_count)\n",
    "        self.linear = nn.Linear(self.embedding_dim, 1)\n",
    "\n",
    "        self.init_weights()\n",
    "\n",
    "    def init_weights(self) -> None:\n",
    "        initrange = 0.1\n",
    "        self.linear.bias.data.zero_()\n",
    "        self.linear.weight.data.uniform_(-initrange, initrange)\n",
    "\n",
    "    def forward(self, encoded_parents, masks):\n",
    "        \"\"\"\n",
    "        The forward method.\n",
    "\n",
    "        encoded_parents is expected to be an integer tensor of [batch_size, sequence_length].\n",
    "        \"\"\"\n",
    "        kmer_embeddings = self.kmer_embedding(encoded_parents)\n",
    "        kmer_embeddings = self.pos_encoder(kmer_embeddings)\n",
    "\n",
    "        # Pass through the transformer encoder\n",
    "        transformer_output = self.encoder(kmer_embeddings)\n",
    "\n",
    "        # Apply the linear layer and squeeze out the last dimension.\n",
    "        # After the linear layer, the dimensions will be [batch_size, sequence_length, 1].\n",
    "        # We squeeze out the last dimension to make it [batch_size, sequence_length].\n",
    "        log_rates = self.linear(transformer_output).squeeze(-1)\n",
    "        rates = torch.exp(log_rates)\n",
    "        return rates\n",
    "\n"
   ]
  },
  {
   "cell_type": "code",
   "execution_count": 4,
   "metadata": {},
   "outputs": [
    {
     "name": "stdout",
     "output_type": "stream",
     "text": [
      "Using Metal Performance Shaders\n",
      "starting training...\n"
     ]
    },
    {
     "name": "stderr",
     "output_type": "stream",
     "text": [
      "Epoch:  17%|█▋        | 17/100 [11:18<56:32, 40.87s/it, loss_diff=1.934e-06, lr=0.004] "
     ]
    }
   ],
   "source": [
    "model = NoofModel(train_dataset, embedding_dim=10, nhead=2, dim_feedforward=256, layer_count=2, dropout=0.1)\n",
    "\n",
    "device = pick_device()\n",
    "train_dataset.to(device)\n",
    "val_dataset.to(device)\n",
    "model.to(device)\n",
    "\n",
    "burrito = framework.Burrito(train_dataset, val_dataset, model, batch_size=1024, learning_rate=0.1, l2_regularization_coeff=1e-6)\n",
    "print(\"starting training...\")\n",
    "losses = burrito.train(epochs=100)\n",
    "losses"
   ]
  }
 ],
 "metadata": {
  "kernelspec": {
   "display_name": "epam",
   "language": "python",
   "name": "python3"
  },
  "language_info": {
   "codemirror_mode": {
    "name": "ipython",
    "version": 3
   },
   "file_extension": ".py",
   "mimetype": "text/x-python",
   "name": "python",
   "nbconvert_exporter": "python",
   "pygments_lexer": "ipython3",
   "version": "3.9.18"
  }
 },
 "nbformat": 4,
 "nbformat_minor": 2
}
